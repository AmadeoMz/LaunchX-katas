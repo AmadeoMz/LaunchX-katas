{
 "cells": [
  {
   "cell_type": "code",
   "execution_count": 1,
   "id": "92a8be30",
   "metadata": {},
   "outputs": [],
   "source": [
    "# Ejercicio 1\n",
    "planet={'name': 'Mars', 'moons': 2}"
   ]
  },
  {
   "cell_type": "code",
   "execution_count": 3,
   "id": "d1486da0",
   "metadata": {},
   "outputs": [
    {
     "name": "stdout",
     "output_type": "stream",
     "text": [
      "Mars\n",
      "2\n"
     ]
    }
   ],
   "source": [
    "print(planet['name'])\n",
    "print(planet['moons'])"
   ]
  },
  {
   "cell_type": "code",
   "execution_count": 8,
   "id": "2467e557",
   "metadata": {},
   "outputs": [
    {
     "name": "stdout",
     "output_type": "stream",
     "text": [
      "Mars tiene una circunferencia polar de 6752 km\n"
     ]
    }
   ],
   "source": [
    "planet['circunferencia (km)']= {'polar': 6752, 'equatorial': 6792}\n",
    "print(planet['name'],'tiene una circunferencia polar de',planet['circunferencia (km)']['polar'], 'km')"
   ]
  },
  {
   "cell_type": "code",
   "execution_count": 13,
   "id": "7f76d975",
   "metadata": {},
   "outputs": [],
   "source": [
    "# Ejercicio 2\n",
    "# Planets and moons\n",
    "\n",
    "planet_moons = {\n",
    "    'mercury': 0,\n",
    "    'venus': 0,\n",
    "    'earth': 1,\n",
    "    'mars': 2,\n",
    "    'jupiter': 79,\n",
    "    'saturn': 82,\n",
    "    'uranus': 27,\n",
    "    'neptune': 14,\n",
    "    'pluto': 5,\n",
    "    'haumea': 2,\n",
    "    'makemake': 1,\n",
    "    'eris': 1\n",
    "}\n",
    "moons=planet_moons.values()\n",
    "planets=len(moons)"
   ]
  },
  {
   "cell_type": "code",
   "execution_count": 15,
   "id": "166d73eb",
   "metadata": {},
   "outputs": [
    {
     "name": "stdout",
     "output_type": "stream",
     "text": [
      "El promedio de lunas es 17\n"
     ]
    }
   ],
   "source": [
    "total_moons=0\n",
    "for i in moons:\n",
    "    total_moons=total_moons + i\n",
    "\n",
    "print('El promedio de lunas es', int(total_moons/planets))"
   ]
  },
  {
   "cell_type": "code",
   "execution_count": null,
   "id": "d03cf60a",
   "metadata": {},
   "outputs": [],
   "source": []
  }
 ],
 "metadata": {
  "kernelspec": {
   "display_name": "Python 3 (ipykernel)",
   "language": "python",
   "name": "python3"
  },
  "language_info": {
   "codemirror_mode": {
    "name": "ipython",
    "version": 3
   },
   "file_extension": ".py",
   "mimetype": "text/x-python",
   "name": "python",
   "nbconvert_exporter": "python",
   "pygments_lexer": "ipython3",
   "version": "3.8.8"
  }
 },
 "nbformat": 4,
 "nbformat_minor": 5
}
