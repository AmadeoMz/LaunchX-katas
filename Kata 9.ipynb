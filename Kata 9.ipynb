{
 "cells": [
  {
   "cell_type": "code",
   "execution_count": 2,
   "id": "b6e77f35",
   "metadata": {},
   "outputs": [],
   "source": [
    "# Ejercicio 1\n",
    "def combustible(*args):\n",
    "    suma=0\n",
    "    for item in args:\n",
    "        suma=suma + item\n",
    "    return suma/len(args)"
   ]
  },
  {
   "cell_type": "code",
   "execution_count": 3,
   "id": "575e90c3",
   "metadata": {},
   "outputs": [
    {
     "name": "stdout",
     "output_type": "stream",
     "text": [
      "0.0\n"
     ]
    }
   ],
   "source": [
    "t1=0\n",
    "t2=0\n",
    "t3=0\n",
    "print(combustible(t1,t2,t3))"
   ]
  },
  {
   "cell_type": "code",
   "execution_count": 30,
   "id": "f742fbc1",
   "metadata": {},
   "outputs": [],
   "source": [
    "def prom(t1,t2,t3):\n",
    "    suma=0\n",
    "    for item in t1,t2,t3:\n",
    "        suma=suma + item\n",
    "    return suma/3\n",
    "\n",
    "def info(t1,t2,t3):\n",
    "    print(prom(t1,t2,t3))"
   ]
  },
  {
   "cell_type": "code",
   "execution_count": 31,
   "id": "da264f92",
   "metadata": {},
   "outputs": [
    {
     "name": "stdout",
     "output_type": "stream",
     "text": [
      "0.0\n"
     ]
    }
   ],
   "source": [
    "info(t1,t2,t3)"
   ]
  },
  {
   "cell_type": "code",
   "execution_count": 48,
   "id": "a90706f7",
   "metadata": {},
   "outputs": [],
   "source": [
    "# Ejercicio 2\n",
    "def func(hora_pre, t_vuelo, dest, tanque_ext, tanque_int):\n",
    "    print('Hora de lanzamiento:',hora_pre,'\\nDestino:', dest, '\\nTiempo de vuelo:', t_vuelo, '\\nCombustible en anque externo:', tanque_ext,'\\nCombustible en anque interno:', tanque_int)\n",
    "\n",
    "def up_func(dest,*minutes, **fuel_reservoirs):\n",
    "    print('Destino:', dest, '\\nTiempo de vuelo:',sum(minutes))\n",
    "    for key, val in fuel_reservoirs.items():\n",
    "        print('\\nNombre del tanque:', key, 'Combustible restante:',val)\n",
    "    "
   ]
  },
  {
   "cell_type": "code",
   "execution_count": 49,
   "id": "8a3ea422",
   "metadata": {},
   "outputs": [
    {
     "name": "stdout",
     "output_type": "stream",
     "text": [
      "Hora de lanzamiento: 23hrs \n",
      "Destino: Marte \n",
      "Tiempo de vuelo: 20 \n",
      "Combustible en anque externo: 300 \n",
      "Combustible en anque interno: 200\n"
     ]
    }
   ],
   "source": [
    "func('23hrs', 20, 'Marte', 300, 200)"
   ]
  },
  {
   "cell_type": "code",
   "execution_count": 50,
   "id": "c43c33f2",
   "metadata": {},
   "outputs": [
    {
     "name": "stdout",
     "output_type": "stream",
     "text": [
      "Destino: Marte \n",
      "Tiempo de vuelo: 110\n",
      "\n",
      "Nombre del tanque: Tanque1 Combustible restante: 300\n",
      "\n",
      "Nombre del tanque: Tanque2 Combustible restante: 500\n",
      "\n",
      "Nombre del tanque: Tanque_emergencia Combustible restante: 1000\n"
     ]
    }
   ],
   "source": [
    "up_func('Marte', 60, 20, 30, Tanque1=300, Tanque2=500, Tanque_emergencia=1000)"
   ]
  },
  {
   "cell_type": "code",
   "execution_count": null,
   "id": "63097422",
   "metadata": {},
   "outputs": [],
   "source": []
  }
 ],
 "metadata": {
  "kernelspec": {
   "display_name": "Python 3 (ipykernel)",
   "language": "python",
   "name": "python3"
  },
  "language_info": {
   "codemirror_mode": {
    "name": "ipython",
    "version": 3
   },
   "file_extension": ".py",
   "mimetype": "text/x-python",
   "name": "python",
   "nbconvert_exporter": "python",
   "pygments_lexer": "ipython3",
   "version": "3.8.8"
  }
 },
 "nbformat": 4,
 "nbformat_minor": 5
}
