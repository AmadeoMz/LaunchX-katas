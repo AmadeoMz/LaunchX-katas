{
 "cells": [
  {
   "cell_type": "code",
   "execution_count": 3,
   "id": "aad24f06",
   "metadata": {},
   "outputs": [
    {
     "name": "stdout",
     "output_type": "stream",
     "text": [
      "¿Cuál es el nuevo planeta a introducir?Tierra\n",
      "¿Cuál es el nuevo planeta a introducir?Mercurio\n",
      "¿Cuál es el nuevo planeta a introducir?Venus\n",
      "¿Cuál es el nuevo planeta a introducir?Marte\n",
      "¿Cuál es el nuevo planeta a introducir?done\n",
      "['Tierra', 'Mercurio', 'Venus', 'Marte', 'done']\n"
     ]
    }
   ],
   "source": [
    "#Ejercicio 1\n",
    "new_planet=0\n",
    "planets=[]\n",
    "while new_planet != 'done':\n",
    "    new_planet=input('¿Cuál es el nuevo planeta a introducir?')\n",
    "    planets.append(new_planet)\n",
    "    \n",
    "print(planets)"
   ]
  },
  {
   "cell_type": "code",
   "execution_count": 4,
   "id": "2e159a32",
   "metadata": {},
   "outputs": [
    {
     "name": "stdout",
     "output_type": "stream",
     "text": [
      "Tierra\n",
      "Mercurio\n",
      "Venus\n",
      "Marte\n",
      "done\n"
     ]
    }
   ],
   "source": [
    "for planet in planets:\n",
    "    print(planet)"
   ]
  },
  {
   "cell_type": "code",
   "execution_count": null,
   "id": "3d2dc21e",
   "metadata": {},
   "outputs": [],
   "source": []
  }
 ],
 "metadata": {
  "kernelspec": {
   "display_name": "Python 3 (ipykernel)",
   "language": "python",
   "name": "python3"
  },
  "language_info": {
   "codemirror_mode": {
    "name": "ipython",
    "version": 3
   },
   "file_extension": ".py",
   "mimetype": "text/x-python",
   "name": "python",
   "nbconvert_exporter": "python",
   "pygments_lexer": "ipython3",
   "version": "3.8.8"
  }
 },
 "nbformat": 4,
 "nbformat_minor": 5
}
