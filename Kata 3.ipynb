{
 "cells": [
  {
   "cell_type": "code",
   "execution_count": 6,
   "id": "156f5024",
   "metadata": {},
   "outputs": [
    {
     "name": "stdout",
     "output_type": "stream",
     "text": [
      "velocidad límite excedida\n"
     ]
    }
   ],
   "source": [
    "#Ejercicio 1\n",
    "vel=49\n",
    "if vel>25:\n",
    "    print('velocidad límite excedida')"
   ]
  },
  {
   "cell_type": "code",
   "execution_count": 23,
   "id": "c62459e1",
   "metadata": {},
   "outputs": [
    {
     "name": "stdout",
     "output_type": "stream",
     "text": [
      "Mira hacia el cielo, verás un rayo de luz!\n"
     ]
    }
   ],
   "source": [
    "#Ejercicio 2\n",
    "vel_min=20\n",
    "vel_ast=25\n",
    "if vel_ast>= vel_min:\n",
    "    print('Mira hacia el cielo, verás un rayo de luz!')\n",
    "else:\n",
    "    print('Siga participando')"
   ]
  },
  {
   "cell_type": "code",
   "execution_count": 25,
   "id": "5219d887",
   "metadata": {},
   "outputs": [
    {
     "name": "stdout",
     "output_type": "stream",
     "text": [
      "Nada que temer pero sal a ver la luz en el cielo\n"
     ]
    }
   ],
   "source": [
    "#Ejercicio 3\n",
    "diam_critico=25\n",
    "diam_max=1000\n",
    "diam_ast=20\n",
    "if (diam_ast<diam_critico and vel_ast< vel_min):\n",
    "    print('Nada interesante, sigue viendo la tv')\n",
    "elif (diam_ast<diam_critico and vel_ast>vel_min):\n",
    "    print('Nada que temer pero sal a ver la luz en el cielo')\n",
    "elif ((diam_ast>diam_critico and diam_ast<1000) or vel_ast>25):\n",
    "    print('Asteroide potencialmente peligroso, estudiarlo a fondo')\n",
    "elif (diam_ast>diam_critico and diam_ast<1000):\n",
    "    print('Peligro inminente, se acerca un asteroide con esteroides')\n",
    "else:\n",
    "    print('Ya fue banda')\n",
    "    "
   ]
  },
  {
   "cell_type": "code",
   "execution_count": null,
   "id": "c5d7873f",
   "metadata": {},
   "outputs": [],
   "source": []
  }
 ],
 "metadata": {
  "kernelspec": {
   "display_name": "Python 3 (ipykernel)",
   "language": "python",
   "name": "python3"
  },
  "language_info": {
   "codemirror_mode": {
    "name": "ipython",
    "version": 3
   },
   "file_extension": ".py",
   "mimetype": "text/x-python",
   "name": "python",
   "nbconvert_exporter": "python",
   "pygments_lexer": "ipython3",
   "version": "3.8.8"
  }
 },
 "nbformat": 4,
 "nbformat_minor": 5
}
