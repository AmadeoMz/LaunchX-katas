{
 "cells": [
  {
   "cell_type": "code",
   "execution_count": 1,
   "id": "000c4166",
   "metadata": {},
   "outputs": [],
   "source": [
    "#Ejercicio 1\n",
    "dist_tierra=149597870 #km\n",
    "dist_jup=778547200 "
   ]
  },
  {
   "cell_type": "code",
   "execution_count": 5,
   "id": "4d50d77a",
   "metadata": {},
   "outputs": [
    {
     "name": "stdout",
     "output_type": "stream",
     "text": [
      "628949330\n",
      "390577533.93\n"
     ]
    }
   ],
   "source": [
    "difference=abs(dist_tierra-dist_jup)\n",
    "print(difference)\n",
    "print(difference*0.621)"
   ]
  },
  {
   "cell_type": "code",
   "execution_count": 15,
   "id": "2f56fe91",
   "metadata": {},
   "outputs": [],
   "source": [
    "Mercurio=57900000\n",
    "Venus=108200000\n",
    "\n"
   ]
  },
  {
   "cell_type": "code",
   "execution_count": 13,
   "id": "290bd93c",
   "metadata": {},
   "outputs": [
    {
     "name": "stdout",
     "output_type": "stream",
     "text": [
      "¿Cuál es la distancia del planeta 1 al sol?57900000\n",
      "¿Cuál es la distancia del planeta 2 al sol?108200000\n"
     ]
    }
   ],
   "source": [
    "var1 = input(\"¿Cuál es la distancia del planeta 1 al sol?\")\n",
    "var2 = input(\"¿Cuál es la distancia del planeta 2 al sol?\")\n"
   ]
  },
  {
   "cell_type": "code",
   "execution_count": 14,
   "id": "b557f8b4",
   "metadata": {},
   "outputs": [
    {
     "name": "stdout",
     "output_type": "stream",
     "text": [
      "50300000\n",
      "31236300.0\n"
     ]
    }
   ],
   "source": [
    "value1 = int(var1)\n",
    "value2 = int(var2)\n",
    "difference=abs(value1-value2)\n",
    "print(difference)\n",
    "print(difference*0.621)"
   ]
  },
  {
   "cell_type": "code",
   "execution_count": null,
   "id": "9694ccdd",
   "metadata": {},
   "outputs": [],
   "source": []
  }
 ],
 "metadata": {
  "kernelspec": {
   "display_name": "Python 3 (ipykernel)",
   "language": "python",
   "name": "python3"
  },
  "language_info": {
   "codemirror_mode": {
    "name": "ipython",
    "version": 3
   },
   "file_extension": ".py",
   "mimetype": "text/x-python",
   "name": "python",
   "nbconvert_exporter": "python",
   "pygments_lexer": "ipython3",
   "version": "3.8.8"
  }
 },
 "nbformat": 4,
 "nbformat_minor": 5
}
