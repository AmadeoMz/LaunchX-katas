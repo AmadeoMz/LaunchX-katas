{
 "cells": [
  {
   "cell_type": "code",
   "execution_count": 33,
   "id": "0cc831dc",
   "metadata": {},
   "outputs": [],
   "source": [
    "text = \"\"\"Interesting facts about the Moon. The Moon is Earth's only satellite. There are several interesting facts about the Moon and how it affects life here on Earth. On average, the Moon moves 4 cm away from the Earth every year. This yearly drift is not significant enough to cause immediate effects on Earth. The highest daylight temperature of the Moon is 127 C.\"\"\""
   ]
  },
  {
   "cell_type": "code",
   "execution_count": 34,
   "id": "cf349245",
   "metadata": {},
   "outputs": [
    {
     "name": "stdout",
     "output_type": "stream",
     "text": [
      "['Interesting facts about the Moon', \"The Moon is Earth's only satellite\", 'There are several interesting facts about the Moon and how it affects life here on Earth', 'On average, the Moon moves 4 cm away from the Earth every year', 'This yearly drift is not significant enough to cause immediate effects on Earth', 'The highest daylight temperature of the Moon is 127 C.']\n"
     ]
    }
   ],
   "source": [
    "# Ejercicio 1\n",
    "lista=text.split(sep='. ')\n",
    "print(lista)"
   ]
  },
  {
   "cell_type": "code",
   "execution_count": 52,
   "id": "a0c88d8e",
   "metadata": {
    "scrolled": true
   },
   "outputs": [
    {
     "name": "stdout",
     "output_type": "stream",
     "text": [
      "The average is 4\n",
      "The temperature is 127\n"
     ]
    }
   ],
   "source": [
    "palabras_clave=['average', 'temperature', 'distance']\n",
    "for palabra in palabras_clave:\n",
    "    for orac in lista:\n",
    "        if palabra in orac:\n",
    "            words=orac.split()\n",
    "            for item in words:\n",
    "                if item.isnumeric():\n",
    "                    print('The {} is'.format(palabra),item)"
   ]
  },
  {
   "cell_type": "markdown",
   "id": "e469a0c4",
   "metadata": {},
   "source": [
    "Nota: hice una pequeña trampa, para que este método funcione es necesario cambiar '4cm' por '4 cm', seguro me sorprenderé lo mucho que me compliqué al ver la solución."
   ]
  },
  {
   "cell_type": "code",
   "execution_count": 63,
   "id": "555d563a",
   "metadata": {},
   "outputs": [
    {
     "name": "stdout",
     "output_type": "stream",
     "text": [
      "The highest daylight temperature of the Moon is 127 Celsius.\n"
     ]
    }
   ],
   "source": [
    "for orac in lista:\n",
    "    if 'temperature' in orac:\n",
    "        print(orac.replace('C', 'Celsius'))\n"
   ]
  },
  {
   "cell_type": "code",
   "execution_count": 87,
   "id": "991c954a",
   "metadata": {},
   "outputs": [],
   "source": [
    "#Ejercicio 2\n",
    "# Datos con los que vas a trabajar\n",
    "name = \"Moon\"\n",
    "gravity = 0.00162 # in kms\n",
    "planet = \"Earth\""
   ]
  },
  {
   "cell_type": "code",
   "execution_count": 88,
   "id": "b675b23a",
   "metadata": {},
   "outputs": [],
   "source": [
    "title= \"Gravity in the {1}\".format(planet, name)"
   ]
  },
  {
   "cell_type": "code",
   "execution_count": 89,
   "id": "15755073",
   "metadata": {},
   "outputs": [],
   "source": [
    "temp= \"Planet: {0} \\nGravity: {1} m/s2\".format(planet,gravity*1000)"
   ]
  },
  {
   "cell_type": "code",
   "execution_count": 90,
   "id": "d8f36bb7",
   "metadata": {},
   "outputs": [
    {
     "name": "stdout",
     "output_type": "stream",
     "text": [
      "Gravity in the Moon\n",
      " ---------- \n",
      "Planet: Earth \n",
      "Gravity: 1.6199999999999999 m/s2\n"
     ]
    }
   ],
   "source": [
    "plant= title + \"\\n ---------- \\n\"+ temp\n",
    "print(plant)"
   ]
  },
  {
   "cell_type": "code",
   "execution_count": 91,
   "id": "0c6a22c3",
   "metadata": {},
   "outputs": [
    {
     "name": "stdout",
     "output_type": "stream",
     "text": [
      "Gravity in the Moon\n",
      " ---------- \n",
      "Planet: Earth \n",
      "Gravity: 1.6199999999999999 m/s2\n"
     ]
    }
   ],
   "source": [
    "#Datos de testeo\n",
    "planet = 'Marte '\n",
    "gravity  = 0.00143\n",
    "name = 'Ganímedes'\n",
    "print(plant)"
   ]
  },
  {
   "cell_type": "code",
   "execution_count": 92,
   "id": "622f57b0",
   "metadata": {},
   "outputs": [
    {
     "name": "stdout",
     "output_type": "stream",
     "text": [
      "Gravity in the Ganímedes\n",
      " ---------- \n",
      "Planet: Marte  \n",
      "Gravity: 1.4300000000000002 m/s2\n"
     ]
    }
   ],
   "source": [
    "title= \"Gravity in the {1}\".format(planet, name)\n",
    "temp= \"Planet: {0} \\nGravity: {1} m/s2\".format(planet,gravity*1000)\n",
    "plant= title + \"\\n ---------- \\n\"+ temp\n",
    "print(plant)"
   ]
  },
  {
   "cell_type": "code",
   "execution_count": null,
   "id": "f3944104",
   "metadata": {},
   "outputs": [],
   "source": []
  }
 ],
 "metadata": {
  "kernelspec": {
   "display_name": "Python 3 (ipykernel)",
   "language": "python",
   "name": "python3"
  },
  "language_info": {
   "codemirror_mode": {
    "name": "ipython",
    "version": 3
   },
   "file_extension": ".py",
   "mimetype": "text/x-python",
   "name": "python",
   "nbconvert_exporter": "python",
   "pygments_lexer": "ipython3",
   "version": "3.8.8"
  }
 },
 "nbformat": 4,
 "nbformat_minor": 5
}
