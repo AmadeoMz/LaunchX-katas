{
 "cells": [
  {
   "cell_type": "code",
   "execution_count": 3,
   "id": "4d871fea",
   "metadata": {},
   "outputs": [],
   "source": [
    "#Ejercicio 1\n",
    "sistema=['Mercurio', 'Venus', 'Tierra', 'Marte', 'Júpiter', 'Saturno', 'Urano', 'Neptuno']"
   ]
  },
  {
   "cell_type": "code",
   "execution_count": 4,
   "id": "9c317ac3",
   "metadata": {},
   "outputs": [
    {
     "name": "stdout",
     "output_type": "stream",
     "text": [
      "9\n",
      "Pluton\n"
     ]
    }
   ],
   "source": [
    "sistema.append('Pluton')\n",
    "print(len(sistema))\n",
    "print(sistema[-1])"
   ]
  },
  {
   "cell_type": "code",
   "execution_count": 22,
   "id": "bf7667bb",
   "metadata": {},
   "outputs": [
    {
     "name": "stdout",
     "output_type": "stream",
     "text": [
      "¿Qué planeta desea agregar?, el nombre del mismo debe comenzar con una letra mayúscula, e.g. \"Mercury\"Earth\n",
      "Earth is the planet number 3\n",
      "Planetas más cercanos al sol: ['Mercury', 'Venus']\n",
      "Planetas más lejanos al sol: ['Mars', 'Jupiter', 'Saturn', 'Neptune']\n"
     ]
    }
   ],
   "source": [
    "#Ejercicio2\n",
    "planets = ['Mercury', 'Venus', 'Earth', 'Mars', 'Jupiter', 'Saturn', 'Neptune']\n",
    "entry= input('¿Qué planeta desea agregar?, el nombre del mismo debe comenzar con una letra mayúscula, e.g. \"Mercury\"')\n",
    "i=planets.index(entry)\n",
    "print('{0} is the planet number {1}'.format(entry, i+1))\n",
    "print('Planetas más cercanos al sol:', planets[0:i])\n",
    "print('Planetas más lejanos al sol:', planets[i+1:])"
   ]
  }
 ],
 "metadata": {
  "kernelspec": {
   "display_name": "Python 3 (ipykernel)",
   "language": "python",
   "name": "python3"
  },
  "language_info": {
   "codemirror_mode": {
    "name": "ipython",
    "version": 3
   },
   "file_extension": ".py",
   "mimetype": "text/x-python",
   "name": "python",
   "nbconvert_exporter": "python",
   "pygments_lexer": "ipython3",
   "version": "3.8.8"
  }
 },
 "nbformat": 4,
 "nbformat_minor": 5
}
